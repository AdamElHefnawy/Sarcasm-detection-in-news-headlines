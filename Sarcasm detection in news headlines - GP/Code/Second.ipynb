{
 "cells": [
  {
   "cell_type": "code",
   "execution_count": 1,
   "metadata": {},
   "outputs": [
    {
     "name": "stderr",
     "output_type": "stream",
     "text": [
      "C:\\Users\\Adam\\AppData\\Local\\Packages\\PythonSoftwareFoundation.Python.3.10_qbz5n2kfra8p0\\LocalCache\\local-packages\\Python310\\site-packages\\tqdm\\auto.py:21: TqdmWarning: IProgress not found. Please update jupyter and ipywidgets. See https://ipywidgets.readthedocs.io/en/stable/user_install.html\n",
      "  from .autonotebook import tqdm as notebook_tqdm\n"
     ]
    }
   ],
   "source": [
    "import pandas as pd\n",
    "import spacy\n",
    "import torch\n",
    "from transformers import BertTokenizer, BertForSequenceClassification, AdamW\n",
    "from torch.utils.data import TensorDataset, random_split, DataLoader\n",
    "from sklearn.metrics import accuracy_score, f1_score\n",
    "\n"
   ]
  },
  {
   "cell_type": "code",
   "execution_count": 2,
   "metadata": {},
   "outputs": [],
   "source": [
    "nlp = spacy.load(\"en_core_web_sm\")"
   ]
  },
  {
   "cell_type": "code",
   "execution_count": 3,
   "metadata": {},
   "outputs": [],
   "source": [
    "# Read in the data\n",
    "data = pd.read_json(\"Sarcasm_Headlines_Dataset.json\", lines=True)\n"
   ]
  },
  {
   "cell_type": "code",
   "execution_count": 4,
   "metadata": {},
   "outputs": [],
   "source": [
    "# Preprocess the headline text\n",
    "def preprocess_text(text):\n",
    "    doc = nlp(text)\n",
    "    processed_text = []\n",
    "    for token in doc:\n",
    "        if not token.is_stop and not token.is_punct:\n",
    "            processed_text.append(token.lemma_.lower())\n",
    "    return \" \".join(processed_text)\n",
    "\n",
    "data[\"headline_processed\"] = data[\"headline\"].apply(preprocess_text)"
   ]
  },
  {
   "cell_type": "code",
   "execution_count": 5,
   "metadata": {},
   "outputs": [
    {
     "name": "stderr",
     "output_type": "stream",
     "text": [
      "Some weights of the model checkpoint at bert-base-uncased were not used when initializing BertForSequenceClassification: ['cls.seq_relationship.weight', 'cls.seq_relationship.bias', 'cls.predictions.transform.dense.weight', 'cls.predictions.transform.LayerNorm.bias', 'cls.predictions.bias', 'cls.predictions.transform.dense.bias', 'cls.predictions.transform.LayerNorm.weight', 'cls.predictions.decoder.weight']\n",
      "- This IS expected if you are initializing BertForSequenceClassification from the checkpoint of a model trained on another task or with another architecture (e.g. initializing a BertForSequenceClassification model from a BertForPreTraining model).\n",
      "- This IS NOT expected if you are initializing BertForSequenceClassification from the checkpoint of a model that you expect to be exactly identical (initializing a BertForSequenceClassification model from a BertForSequenceClassification model).\n",
      "Some weights of BertForSequenceClassification were not initialized from the model checkpoint at bert-base-uncased and are newly initialized: ['classifier.weight', 'classifier.bias']\n",
      "You should probably TRAIN this model on a down-stream task to be able to use it for predictions and inference.\n"
     ]
    }
   ],
   "source": [
    "# Load the pre-trained BERT tokenizer and model\n",
    "tokenizer = BertTokenizer.from_pretrained(\"bert-base-uncased\")\n",
    "model = BertForSequenceClassification.from_pretrained(\"bert-base-uncased\", num_labels=2)"
   ]
  },
  {
   "cell_type": "code",
   "execution_count": 6,
   "metadata": {},
   "outputs": [],
   "source": [
    "# Tokenize the text data\n",
    "tokenized_data = data[\"headline_processed\"].apply((lambda x: tokenizer.encode(x, add_special_tokens=True)))"
   ]
  },
  {
   "cell_type": "code",
   "execution_count": 8,
   "metadata": {},
   "outputs": [],
   "source": [
    "# Pad the tokenized sequences to the same length\n",
    "max_len = max(len(i) for i in tokenized_data.values)\n",
    "padded_data = torch.tensor([i + [0]*(max_len-len(i)) for i in tokenized_data.values])\n",
    "attention_masks = torch.tensor([[int(token_id > 0) for token_id in i] for i in padded_data])\n",
    "\n"
   ]
  },
  {
   "cell_type": "code",
   "execution_count": 10,
   "metadata": {},
   "outputs": [
    {
     "name": "stdout",
     "output_type": "stream",
     "text": [
      "Epoch 1\n",
      "Batch 0: Loss = 0.4145, Accuracy = 0.8438\n",
      "Batch 100: Loss = 0.4935, Accuracy = 0.7661\n",
      "Batch 200: Loss = 0.4806, Accuracy = 0.7736\n",
      "Batch 300: Loss = 0.4720, Accuracy = 0.7765\n",
      "Batch 400: Loss = 0.4623, Accuracy = 0.7827\n",
      "Batch 500: Loss = 0.4492, Accuracy = 0.7899\n",
      "Batch 600: Loss = 0.4409, Accuracy = 0.7937\n",
      "Epoch 1: Loss = 0.4363, Accuracy = 0.7964\n",
      "Validation: Loss = 0.3810, Accuracy = 0.8282\n",
      "Epoch 2\n",
      "Batch 0: Loss = 0.3236, Accuracy = 0.8125\n",
      "Batch 100: Loss = 0.2529, Accuracy = 0.8976\n",
      "Batch 200: Loss = 0.2641, Accuracy = 0.8937\n",
      "Batch 300: Loss = 0.2717, Accuracy = 0.8884\n",
      "Batch 400: Loss = 0.2706, Accuracy = 0.8869\n",
      "Batch 500: Loss = 0.2695, Accuracy = 0.8865\n",
      "Batch 600: Loss = 0.2728, Accuracy = 0.8854\n",
      "Epoch 2: Loss = 0.2709, Accuracy = 0.8865\n",
      "Validation: Loss = 0.3856, Accuracy = 0.8478\n",
      "Epoch 3\n",
      "Batch 0: Loss = 0.0668, Accuracy = 1.0000\n",
      "Batch 100: Loss = 0.1322, Accuracy = 0.9486\n",
      "Batch 200: Loss = 0.1306, Accuracy = 0.9504\n",
      "Batch 300: Loss = 0.1389, Accuracy = 0.9475\n",
      "Batch 400: Loss = 0.1401, Accuracy = 0.9473\n",
      "Batch 500: Loss = 0.1412, Accuracy = 0.9465\n",
      "Batch 600: Loss = 0.1390, Accuracy = 0.9476\n",
      "Epoch 3: Loss = 0.1389, Accuracy = 0.9477\n",
      "Validation: Loss = 0.4652, Accuracy = 0.8437\n",
      "Epoch 4\n",
      "Batch 0: Loss = 0.0942, Accuracy = 0.9688\n",
      "Batch 100: Loss = 0.0653, Accuracy = 0.9756\n",
      "Batch 200: Loss = 0.0638, Accuracy = 0.9776\n",
      "Batch 300: Loss = 0.0631, Accuracy = 0.9786\n",
      "Batch 400: Loss = 0.0666, Accuracy = 0.9772\n",
      "Batch 500: Loss = 0.0653, Accuracy = 0.9777\n",
      "Batch 600: Loss = 0.0646, Accuracy = 0.9774\n",
      "Epoch 4: Loss = 0.0682, Accuracy = 0.9761\n",
      "Validation: Loss = 0.5134, Accuracy = 0.8521\n",
      "Early stopping at epoch 4...\n"
     ]
    },
    {
     "ename": "",
     "evalue": "",
     "output_type": "error",
     "traceback": [
      "\u001b[1;31mThe Kernel crashed while executing code in the the current cell or a previous cell. Please review the code in the cell(s) to identify a possible cause of the failure. Click <a href='https://aka.ms/vscodeJupyterKernelCrash'>here</a> for more info. View Jupyter <a href='command:jupyter.viewOutput'>log</a> for further details."
     ]
    }
   ],
   "source": [
    "\n",
    "# Create the dataset and dataloader\n",
    "dataset = TensorDataset(padded_data, attention_masks, torch.tensor(data[\"is_sarcastic\"].values))\n",
    "train_size = int(0.8 * len(dataset))\n",
    "val_size = len(dataset) - train_size\n",
    "train_dataset, val_dataset = random_split(dataset, [train_size, val_size])\n",
    "train_loader = DataLoader(train_dataset, batch_size=32, shuffle=True)\n",
    "val_loader = DataLoader(val_dataset, batch_size=32, shuffle=True)\n",
    "\n",
    "optimizer = AdamW(model.parameters(), lr=2e-5, eps=1e-8)\n",
    "\n",
    "best_val_loss = float('inf')\n",
    "patience = 3\n",
    "epochs_without_improvement = 0\n",
    "\n",
    "for epoch in range(10):\n",
    "    print(f'Epoch {epoch + 1}')\n",
    "    total_loss = 0\n",
    "    total_correct = 0\n",
    "    total_samples = 0\n",
    "\n",
    "    for i, batch in enumerate(train_loader):\n",
    "        model.train()\n",
    "        optimizer.zero_grad()\n",
    "        input_ids = batch[0]\n",
    "        attention_mask = batch[1]\n",
    "        labels = batch[2]\n",
    "        outputs = model(input_ids, attention_mask=attention_mask, labels=labels)\n",
    "        loss = outputs.loss\n",
    "        loss.backward()\n",
    "        optimizer.step()\n",
    "\n",
    "        # Compute accuracy\n",
    "        preds = outputs.logits.argmax(dim=-1)\n",
    "        correct = (preds == labels).sum().item()\n",
    "        total_correct += correct\n",
    "        total_samples += len(labels)\n",
    "\n",
    "        total_loss += loss.item()\n",
    "\n",
    "        if i % 100 == 0:\n",
    "            avg_loss = total_loss / (i+1)\n",
    "            avg_acc = total_correct / total_samples\n",
    "            print(f'Batch {i}: Loss = {avg_loss:.4f}, Accuracy = {avg_acc:.4f}')\n",
    "\n",
    "    avg_loss = total_loss / len(train_loader)\n",
    "    avg_acc = total_correct / total_samples\n",
    "    print(f'Epoch {epoch+1}: Loss = {avg_loss:.4f}, Accuracy = {avg_acc:.4f}')\n",
    "\n",
    "    # Validation\n",
    "    val_loss = 0\n",
    "    val_correct = 0\n",
    "    val_samples = 0\n",
    "\n",
    "    with torch.no_grad():\n",
    "        for val_batch in val_loader:\n",
    "            model.eval()\n",
    "            val_input_ids = val_batch[0]\n",
    "            val_attention_mask = val_batch[1]\n",
    "            val_labels = val_batch[2]\n",
    "            val_outputs = model(val_input_ids, attention_mask=val_attention_mask, labels=val_labels)\n",
    "            val_loss += val_outputs.loss.item()\n",
    "\n",
    "            val_preds = val_outputs.logits.argmax(dim=-1)\n",
    "            val_correct += (val_preds == val_labels).sum().item()\n",
    "            val_samples += len(val_labels)\n",
    "\n",
    "    val_loss /= len(val_loader)\n",
    "    val_acc = val_correct / val_samples\n",
    "    print(f'Validation: Loss = {val_loss:.4f}, Accuracy = {val_acc:.4f}')\n",
    "\n",
    "    # Early stopping check\n",
    "    if val_loss < best_val_loss:\n",
    "        best_val_loss = val_loss\n",
    "        epochs_without_improvement = 0\n",
    "    else:\n",
    "        epochs_without_improvement += 1\n",
    "\n",
    "    if epochs_without_improvement >= patience:\n",
    "        print(f'Early stopping at epoch {epoch+1}...')\n",
    "        break"
   ]
  },
  {
   "cell_type": "code",
   "execution_count": null,
   "metadata": {},
   "outputs": [],
   "source": []
  }
 ],
 "metadata": {
  "kernelspec": {
   "display_name": "Python 3",
   "language": "python",
   "name": "python3"
  },
  "language_info": {
   "codemirror_mode": {
    "name": "ipython",
    "version": 3
   },
   "file_extension": ".py",
   "mimetype": "text/x-python",
   "name": "python",
   "nbconvert_exporter": "python",
   "pygments_lexer": "ipython3",
   "version": "3.10.11"
  },
  "orig_nbformat": 4
 },
 "nbformat": 4,
 "nbformat_minor": 2
}
