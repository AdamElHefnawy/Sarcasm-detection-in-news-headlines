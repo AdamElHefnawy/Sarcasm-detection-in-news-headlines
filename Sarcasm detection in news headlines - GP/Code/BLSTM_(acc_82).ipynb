{
  "nbformat": 4,
  "nbformat_minor": 0,
  "metadata": {
    "colab": {
      "provenance": []
    },
    "kernelspec": {
      "name": "python3",
      "display_name": "Python 3"
    },
    "language_info": {
      "name": "python"
    }
  },
  "cells": [
    {
      "cell_type": "code",
      "execution_count": null,
      "metadata": {
        "id": "hhrcfUo42XR2"
      },
      "outputs": [],
      "source": [
        "import pandas as pd\n",
        "import numpy as np\n",
        "import string\n",
        "import re\n",
        "from sklearn.model_selection import train_test_split\n",
        "from sklearn.metrics import accuracy_score, f1_score\n",
        "from tensorflow.keras.preprocessing.text import Tokenizer\n",
        "from tensorflow.keras.preprocessing.sequence import pad_sequences\n",
        "from tensorflow.keras.models import Sequential\n",
        "from tensorflow.keras.layers import Embedding, Bidirectional, LSTM, Dense, Dropout"
      ]
    },
    {
      "cell_type": "code",
      "source": [
        "# Load the dataset\n",
        "data = pd.read_json('Sarcasm_Headlines_Dataset.json', lines=True)"
      ],
      "metadata": {
        "id": "nvvj7Vw_2enf"
      },
      "execution_count": null,
      "outputs": []
    },
    {
      "cell_type": "code",
      "source": [
        "# Preprocess the text\n",
        "def preprocess_text(text):\n",
        "    # Remove punctuation\n",
        "    text = text.translate(str.maketrans('', '', string.punctuation))\n",
        "    # Convert to lowercase\n",
        "    text = text.lower()\n",
        "    # Remove numbers\n",
        "    text = re.sub(r'\\d+', '', text)\n",
        "    # Remove extra whitespace\n",
        "    text = ' '.join(text.split())\n",
        "    return text"
      ],
      "metadata": {
        "id": "BMYeBC-62kEp"
      },
      "execution_count": null,
      "outputs": []
    },
    {
      "cell_type": "code",
      "source": [
        "# Apply the preprocessing function to the 'headline' column\n",
        "data['headline'] = data['headline'].apply(preprocess_text)"
      ],
      "metadata": {
        "id": "xxtuy0xF2mhQ"
      },
      "execution_count": null,
      "outputs": []
    },
    {
      "cell_type": "code",
      "source": [
        "# Split the data into training and testing sets\n",
        "X_train, X_test, y_train, y_test = train_test_split(data['headline'], data['is_sarcastic'], test_size=0.3, random_state=42)\n"
      ],
      "metadata": {
        "id": "VFNGNfzZ2pZb"
      },
      "execution_count": null,
      "outputs": []
    },
    {
      "cell_type": "code",
      "source": [
        "# Tokenize the text\n",
        "tokenizer = Tokenizer()\n",
        "tokenizer.fit_on_texts(X_train)\n",
        "vocab_size = len(tokenizer.word_index) + 1\n",
        "\n",
        "X_train_seq = tokenizer.texts_to_sequences(X_train)\n",
        "X_test_seq = tokenizer.texts_to_sequences(X_test)\n"
      ],
      "metadata": {
        "id": "Z40XIvyB2ruB"
      },
      "execution_count": null,
      "outputs": []
    },
    {
      "cell_type": "code",
      "source": [
        "# Pad sequences\n",
        "max_len = 100\n",
        "X_train_pad = pad_sequences(X_train_seq, maxlen=max_len, padding='post')\n",
        "X_test_pad = pad_sequences(X_test_seq, maxlen=max_len, padding='post')"
      ],
      "metadata": {
        "id": "LrTlxftf2wna"
      },
      "execution_count": null,
      "outputs": []
    },
    {
      "cell_type": "code",
      "source": [
        "# Build the model\n",
        "embedding_dim = 100\n",
        "\n",
        "model = Sequential()\n",
        "model.add(Embedding(vocab_size, embedding_dim, input_length=max_len))\n",
        "model.add(Bidirectional(LSTM(128, return_sequences=True)))\n",
        "model.add(Bidirectional(LSTM(64)))\n",
        "model.add(Dense(64, activation='relu'))\n",
        "model.add(Dropout(0.5))\n",
        "model.add(Dense(1, activation='sigmoid'))\n",
        "\n",
        "model.compile(loss='binary_crossentropy', optimizer='adam', metrics=['accuracy'])"
      ],
      "metadata": {
        "id": "CWzTfM8l2zbH"
      },
      "execution_count": null,
      "outputs": []
    },
    {
      "cell_type": "code",
      "source": [
        "# Train the model\n",
        "model.fit(X_train_pad, y_train, epochs=10, batch_size=32, validation_split=0.2)"
      ],
      "metadata": {
        "colab": {
          "base_uri": "https://localhost:8080/"
        },
        "id": "oxTNbk3D22Xc",
        "outputId": "24580d77-36e2-4662-d3a1-c40645bbe41e"
      },
      "execution_count": null,
      "outputs": [
        {
          "output_type": "stream",
          "name": "stdout",
          "text": [
            "Epoch 1/10\n",
            "468/468 [==============================] - 361s 750ms/step - loss: 0.4270 - accuracy: 0.7923 - val_loss: 0.3409 - val_accuracy: 0.8513\n",
            "Epoch 2/10\n",
            "468/468 [==============================] - 350s 748ms/step - loss: 0.1543 - accuracy: 0.9444 - val_loss: 0.3877 - val_accuracy: 0.8468\n",
            "Epoch 3/10\n",
            "468/468 [==============================] - 353s 753ms/step - loss: 0.0572 - accuracy: 0.9808 - val_loss: 0.6318 - val_accuracy: 0.8273\n",
            "Epoch 4/10\n",
            "468/468 [==============================] - 329s 704ms/step - loss: 0.0226 - accuracy: 0.9921 - val_loss: 0.7711 - val_accuracy: 0.8297\n",
            "Epoch 5/10\n",
            "468/468 [==============================] - 331s 705ms/step - loss: 0.0085 - accuracy: 0.9976 - val_loss: 1.2529 - val_accuracy: 0.8291\n",
            "Epoch 6/10\n",
            "468/468 [==============================] - 327s 699ms/step - loss: 0.0087 - accuracy: 0.9973 - val_loss: 0.9805 - val_accuracy: 0.8217\n",
            "Epoch 7/10\n",
            "468/468 [==============================] - 327s 698ms/step - loss: 0.0094 - accuracy: 0.9971 - val_loss: 1.2356 - val_accuracy: 0.8225\n",
            "Epoch 8/10\n",
            "468/468 [==============================] - 332s 708ms/step - loss: 0.0098 - accuracy: 0.9972 - val_loss: 1.0471 - val_accuracy: 0.8238\n",
            "Epoch 9/10\n",
            "468/468 [==============================] - 340s 727ms/step - loss: 0.0075 - accuracy: 0.9976 - val_loss: 1.1820 - val_accuracy: 0.8193\n",
            "Epoch 10/10\n",
            "468/468 [==============================] - 331s 708ms/step - loss: 0.0035 - accuracy: 0.9989 - val_loss: 1.3001 - val_accuracy: 0.8152\n"
          ]
        },
        {
          "output_type": "execute_result",
          "data": {
            "text/plain": [
              "<keras.callbacks.History at 0x7f9b539597e0>"
            ]
          },
          "metadata": {},
          "execution_count": 9
        }
      ]
    },
    {
      "cell_type": "code",
      "source": [
        "# Evaluate the model\n",
        "y_pred_prob = model.predict(X_test_pad)\n",
        "y_pred = np.round(y_pred_prob).astype(int)\n",
        "accuracy = accuracy_score(y_test, y_pred)\n",
        "f1 = f1_score(y_test, y_pred)\n",
        "\n",
        "print('Accuracy:', accuracy)\n",
        "print('F1-score:', f1)"
      ],
      "metadata": {
        "colab": {
          "base_uri": "https://localhost:8080/"
        },
        "id": "JyAHBo9725Ug",
        "outputId": "7344148a-a601-493e-f494-db10c5d7ca86"
      },
      "execution_count": null,
      "outputs": [
        {
          "output_type": "stream",
          "name": "stdout",
          "text": [
            "251/251 [==============================] - 46s 175ms/step\n",
            "Accuracy: 0.8207912142768002\n",
            "F1-score: 0.7898741586186714\n"
          ]
        }
      ]
    },
    {
      "cell_type": "code",
      "source": [],
      "metadata": {
        "id": "AIJcDQfrD2hE"
      },
      "execution_count": null,
      "outputs": []
    }
  ]
}