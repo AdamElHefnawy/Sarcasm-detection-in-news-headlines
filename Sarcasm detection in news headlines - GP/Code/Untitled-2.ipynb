{
 "cells": [
  {
   "cell_type": "code",
   "execution_count": 1,
   "metadata": {},
   "outputs": [],
   "source": [
    "import pandas as pd\n",
    "import spacy"
   ]
  },
  {
   "cell_type": "code",
   "execution_count": 2,
   "metadata": {},
   "outputs": [],
   "source": [
    "nlp = spacy.load(\"en_core_web_sm\")"
   ]
  },
  {
   "cell_type": "code",
   "execution_count": 3,
   "metadata": {},
   "outputs": [],
   "source": [
    "# Read in the data\n",
    "data = pd.read_json(\"Sarcasm_Headlines_Dataset.json\", lines=True)"
   ]
  },
  {
   "cell_type": "code",
   "execution_count": 4,
   "metadata": {},
   "outputs": [],
   "source": [
    "# Preprocess the headline text\n",
    "def preprocess_text(text):\n",
    "    doc = nlp(text)\n",
    "    processed_text = []\n",
    "    for token in doc:\n",
    "        if not token.is_stop and not token.is_punct:\n",
    "            processed_text.append(token.lemma_.lower())\n",
    "    return \" \".join(processed_text)\n",
    "\n",
    "data[\"headline_processed\"] = data[\"headline\"].apply(preprocess_text)"
   ]
  },
  {
   "cell_type": "code",
   "execution_count": 5,
   "metadata": {},
   "outputs": [
    {
     "name": "stderr",
     "output_type": "stream",
     "text": [
      "C:\\Users\\Adam\\AppData\\Local\\Packages\\PythonSoftwareFoundation.Python.3.10_qbz5n2kfra8p0\\LocalCache\\local-packages\\Python310\\site-packages\\tqdm\\auto.py:21: TqdmWarning: IProgress not found. Please update jupyter and ipywidgets. See https://ipywidgets.readthedocs.io/en/stable/user_install.html\n",
      "  from .autonotebook import tqdm as notebook_tqdm\n"
     ]
    }
   ],
   "source": [
    "from transformers import BertTokenizer, BertForSequenceClassification, AdamW\n",
    "import torch\n",
    "\n",
    "from torch.utils.data import TensorDataset, random_split, DataLoader\n",
    "\n"
   ]
  },
  {
   "cell_type": "code",
   "execution_count": 6,
   "metadata": {},
   "outputs": [
    {
     "name": "stderr",
     "output_type": "stream",
     "text": [
      "Some weights of the model checkpoint at bert-base-uncased were not used when initializing BertForSequenceClassification: ['cls.predictions.transform.LayerNorm.weight', 'cls.predictions.bias', 'cls.predictions.transform.LayerNorm.bias', 'cls.predictions.transform.dense.bias', 'cls.seq_relationship.bias', 'cls.predictions.decoder.weight', 'cls.predictions.transform.dense.weight', 'cls.seq_relationship.weight']\n",
      "- This IS expected if you are initializing BertForSequenceClassification from the checkpoint of a model trained on another task or with another architecture (e.g. initializing a BertForSequenceClassification model from a BertForPreTraining model).\n",
      "- This IS NOT expected if you are initializing BertForSequenceClassification from the checkpoint of a model that you expect to be exactly identical (initializing a BertForSequenceClassification model from a BertForSequenceClassification model).\n",
      "Some weights of BertForSequenceClassification were not initialized from the model checkpoint at bert-base-uncased and are newly initialized: ['classifier.weight', 'classifier.bias']\n",
      "You should probably TRAIN this model on a down-stream task to be able to use it for predictions and inference.\n"
     ]
    }
   ],
   "source": [
    "# Load the pre-trained BERT tokenizer and model\n",
    "tokenizer = BertTokenizer.from_pretrained(\"bert-base-uncased\")\n",
    "model = BertForSequenceClassification.from_pretrained(\"bert-base-uncased\", num_labels=2)"
   ]
  },
  {
   "cell_type": "code",
   "execution_count": 7,
   "metadata": {},
   "outputs": [],
   "source": [
    "# Tokenize the text data\n",
    "tokenized_data = data[\"headline_processed\"].apply((lambda x: tokenizer.encode(x, add_special_tokens=True)))"
   ]
  },
  {
   "cell_type": "code",
   "execution_count": 8,
   "metadata": {},
   "outputs": [],
   "source": [
    "# Pad the tokenized sequences to the same length\n",
    "max_len = 0\n",
    "for i in tokenized_data.values:\n",
    "    if len(i) > max_len:\n",
    "        max_len = len(i)"
   ]
  },
  {
   "cell_type": "code",
   "execution_count": 9,
   "metadata": {},
   "outputs": [],
   "source": [
    "padded_data = torch.tensor([i + [0]*(max_len-len(i)) for i in tokenized_data.values])\n",
    "attention_masks = torch.tensor([[int(token_id > 0) for token_id in i] for i in padded_data])"
   ]
  },
  {
   "cell_type": "code",
   "execution_count": 10,
   "metadata": {},
   "outputs": [],
   "source": [
    "# Create the dataset and dataloader\n",
    "dataset = TensorDataset(padded_data, attention_masks, torch.tensor(data[\"is_sarcastic\"].values))\n",
    "train_size = int(0.8 * len(dataset))\n",
    "val_size = len(dataset) - train_size\n",
    "train_dataset, val_dataset = random_split(dataset, [train_size, val_size])\n",
    "train_loader = DataLoader(train_dataset, batch_size=32, shuffle=True)\n",
    "val_loader = DataLoader(val_dataset, batch_size=32, shuffle=True)\n"
   ]
  },
  {
   "cell_type": "code",
   "execution_count": 11,
   "metadata": {},
   "outputs": [
    {
     "name": "stderr",
     "output_type": "stream",
     "text": [
      "C:\\Users\\Adam\\AppData\\Local\\Packages\\PythonSoftwareFoundation.Python.3.10_qbz5n2kfra8p0\\LocalCache\\local-packages\\Python310\\site-packages\\transformers\\optimization.py:391: FutureWarning: This implementation of AdamW is deprecated and will be removed in a future version. Use the PyTorch implementation torch.optim.AdamW instead, or set `no_deprecation_warning=True` to disable this warning\n",
      "  warnings.warn(\n"
     ]
    },
    {
     "name": "stdout",
     "output_type": "stream",
     "text": [
      "Epoch 1\n",
      "Batch 0: Loss = 0.7133, Accuracy = 0.5625\n",
      "Batch 100: Loss = 0.5870, Accuracy = 0.6971\n",
      "Batch 200: Loss = 0.5406, Accuracy = 0.7299\n",
      "Batch 300: Loss = 0.5073, Accuracy = 0.7494\n",
      "Batch 400: Loss = 0.4860, Accuracy = 0.7629\n",
      "Batch 500: Loss = 0.4685, Accuracy = 0.7745\n",
      "Batch 600: Loss = 0.4612, Accuracy = 0.7794\n",
      "Epoch 1: Loss = 0.4556, Accuracy = 0.7819\n",
      "Epoch 2\n",
      "Batch 0: Loss = 0.2907, Accuracy = 0.8125\n",
      "Batch 100: Loss = 0.2875, Accuracy = 0.8775\n",
      "Batch 200: Loss = 0.2826, Accuracy = 0.8804\n",
      "Batch 300: Loss = 0.2839, Accuracy = 0.8794\n",
      "Batch 400: Loss = 0.2805, Accuracy = 0.8808\n",
      "Batch 500: Loss = 0.2792, Accuracy = 0.8814\n",
      "Batch 600: Loss = 0.2776, Accuracy = 0.8816\n",
      "Epoch 2: Loss = 0.2775, Accuracy = 0.8817\n",
      "Epoch 3\n",
      "Batch 0: Loss = 0.1895, Accuracy = 0.8750\n",
      "Batch 100: Loss = 0.1221, Accuracy = 0.9527\n",
      "Batch 200: Loss = 0.1274, Accuracy = 0.9538\n",
      "Batch 300: Loss = 0.1291, Accuracy = 0.9537\n",
      "Batch 400: Loss = 0.1325, Accuracy = 0.9512\n",
      "Batch 500: Loss = 0.1371, Accuracy = 0.9491\n",
      "Batch 600: Loss = 0.1406, Accuracy = 0.9463\n",
      "Epoch 3: Loss = 0.1423, Accuracy = 0.9456\n",
      "Epoch 4\n",
      "Batch 0: Loss = 0.0295, Accuracy = 1.0000\n",
      "Batch 100: Loss = 0.0662, Accuracy = 0.9802\n",
      "Batch 200: Loss = 0.0693, Accuracy = 0.9753\n",
      "Batch 300: Loss = 0.0706, Accuracy = 0.9743\n",
      "Batch 400: Loss = 0.0671, Accuracy = 0.9755\n",
      "Batch 500: Loss = 0.0704, Accuracy = 0.9748\n",
      "Batch 600: Loss = 0.0705, Accuracy = 0.9748\n",
      "Epoch 4: Loss = 0.0714, Accuracy = 0.9744\n",
      "Epoch 5\n",
      "Batch 0: Loss = 0.0265, Accuracy = 1.0000\n",
      "Batch 100: Loss = 0.0325, Accuracy = 0.9907\n",
      "Batch 200: Loss = 0.0384, Accuracy = 0.9871\n",
      "Batch 300: Loss = 0.0414, Accuracy = 0.9858\n",
      "Batch 400: Loss = 0.0442, Accuracy = 0.9850\n",
      "Batch 500: Loss = 0.0444, Accuracy = 0.9842\n",
      "Batch 600: Loss = 0.0450, Accuracy = 0.9839\n",
      "Epoch 5: Loss = 0.0439, Accuracy = 0.9842\n"
     ]
    }
   ],
   "source": [
    "optimizer = AdamW(model.parameters(), lr=2e-5, eps=1e-8)\n",
    "\n",
    "for epoch in range(5):\n",
    "    print(f'Epoch {epoch + 1}')\n",
    "    total_loss = 0\n",
    "    total_correct = 0\n",
    "    total_samples = 0\n",
    "\n",
    "    for i, batch in enumerate(train_loader):\n",
    "        model.train()\n",
    "        optimizer.zero_grad()\n",
    "        input_ids = batch[0]\n",
    "        attention_mask = batch[1]\n",
    "        labels = batch[2]\n",
    "        outputs = model(input_ids, attention_mask=attention_mask, labels=labels)\n",
    "        loss = outputs.loss\n",
    "        loss.backward()\n",
    "        optimizer.step()\n",
    "\n",
    "        # Compute accuracy\n",
    "        preds = outputs.logits.argmax(dim=-1)\n",
    "        correct = (preds == labels).sum().item()\n",
    "        total_correct += correct\n",
    "        total_samples += len(labels)\n",
    "\n",
    "        total_loss += loss.item()\n",
    "\n",
    "        if i % 100 == 0:\n",
    "            avg_loss = total_loss / (i+1)\n",
    "            avg_acc = total_correct / total_samples\n",
    "            print(f'Batch {i}: Loss = {avg_loss:.4f}, Accuracy = {avg_acc:.4f}')\n",
    "\n",
    "    avg_loss = total_loss / len(train_loader)\n",
    "    avg_acc = total_correct / total_samples\n",
    "    print(f'Epoch {epoch+1}: Loss = {avg_loss:.4f}, Accuracy = {avg_acc:.4f}')\n"
   ]
  },
  {
   "cell_type": "code",
   "execution_count": null,
   "metadata": {},
   "outputs": [],
   "source": []
  },
  {
   "cell_type": "code",
   "execution_count": 1,
   "metadata": {},
   "outputs": [
    {
     "ename": "NameError",
     "evalue": "name 'labels' is not defined",
     "output_type": "error",
     "traceback": [
      "\u001b[1;31m---------------------------------------------------------------------------\u001b[0m",
      "\u001b[1;31mNameError\u001b[0m                                 Traceback (most recent call last)",
      "Cell \u001b[1;32mIn[1], line 3\u001b[0m\n\u001b[0;32m      1\u001b[0m \u001b[39mfrom\u001b[39;00m \u001b[39msklearn\u001b[39;00m\u001b[39m.\u001b[39;00m\u001b[39mmetrics\u001b[39;00m \u001b[39mimport\u001b[39;00m accuracy_score, classification_report\n\u001b[0;32m      2\u001b[0m \u001b[39m# Generate classification report\u001b[39;00m\n\u001b[1;32m----> 3\u001b[0m report \u001b[39m=\u001b[39m classification_report(labels, preds)\n\u001b[0;32m      4\u001b[0m \u001b[39mprint\u001b[39m(report)\n",
      "\u001b[1;31mNameError\u001b[0m: name 'labels' is not defined"
     ]
    }
   ],
   "source": []
  },
  {
   "cell_type": "code",
   "execution_count": null,
   "metadata": {},
   "outputs": [],
   "source": []
  }
 ],
 "metadata": {
  "kernelspec": {
   "display_name": "Python 3",
   "language": "python",
   "name": "python3"
  },
  "language_info": {
   "codemirror_mode": {
    "name": "ipython",
    "version": 3
   },
   "file_extension": ".py",
   "mimetype": "text/x-python",
   "name": "python",
   "nbconvert_exporter": "python",
   "pygments_lexer": "ipython3",
   "version": "3.10.11"
  },
  "orig_nbformat": 4,
  "vscode": {
   "interpreter": {
    "hash": "c295b91a4a4f8e66f37da6a2fbf5c84e6919990d10548059361442497be2c972"
   }
  }
 },
 "nbformat": 4,
 "nbformat_minor": 2
}
